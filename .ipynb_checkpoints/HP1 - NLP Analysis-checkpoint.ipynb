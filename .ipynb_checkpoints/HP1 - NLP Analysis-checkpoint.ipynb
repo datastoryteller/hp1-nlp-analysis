{
 "cells": [
  {
   "cell_type": "markdown",
   "metadata": {},
   "source": [
    "# Harry Potter and the Philosopher's Stone "
   ]
  },
  {
   "cell_type": "markdown",
   "metadata": {},
   "source": [
    "## A statistical and literary analysis"
   ]
  },
  {
   "cell_type": "markdown",
   "metadata": {},
   "source": [
    "### Finding spells in the book "
   ]
  },
  {
   "cell_type": "code",
   "execution_count": 36,
   "metadata": {},
   "outputs": [
    {
     "name": "stderr",
     "output_type": "stream",
     "text": [
      "[nltk_data] Downloading package wordnet to /home/alan/nltk_data...\n",
      "[nltk_data]   Unzipping corpora/wordnet.zip.\n"
     ]
    },
    {
     "data": {
      "text/plain": [
       "True"
      ]
     },
     "execution_count": 36,
     "metadata": {},
     "output_type": "execute_result"
    }
   ],
   "source": [
    "import re\n",
    "import nltk\n",
    "from nltk.corpus import wordnet\n",
    "from nltk.tokenize import sent_tokenize, word_tokenize\n",
    "#nltk.download('punkt')\n",
    "#nltk.download('wordnet')"
   ]
  },
  {
   "cell_type": "code",
   "execution_count": 3,
   "metadata": {},
   "outputs": [],
   "source": [
    "book = open('book_1.txt').read().lower()"
   ]
  },
  {
   "cell_type": "code",
   "execution_count": 33,
   "metadata": {},
   "outputs": [],
   "source": [
    "potential_spells = re.findall(r\"“[a-z]+\\s[a-z]+!”\", book)"
   ]
  },
  {
   "cell_type": "code",
   "execution_count": 34,
   "metadata": {},
   "outputs": [
    {
     "name": "stdout",
     "output_type": "stream",
     "text": [
      "['car', 'crash']\n",
      "['he', 'remembers']\n",
      "['professor', 'quirrell']\n",
      "['harry', 'potter']\n",
      "['hurry', 'up']\n",
      "['heads', 'down']\n",
      "['new', 'students']\n",
      "['thank', 'you']\n",
      "['idiot', 'boy']\n",
      "['harry', 'potter']\n",
      "['this', 'way']\n",
      "['wingardium', 'leviosa']\n",
      "['wingardium', 'leviosa']\n",
      "['confuse', 'it']\n",
      "['wingardium', 'leviosa']\n",
      "['miss', 'granger']\n",
      "['red', 'card']\n",
      "['merry', 'christmas']\n",
      "['stay', 'there']\n",
      "['shut', 'up']\n",
      "['its', 'hedwig']\n",
      "['nearly', 'there']\n",
      "['petrificus', 'totalus']\n",
      "['stop', 'moving']\n",
      "['that', 'one']\n",
      "['seize', 'him']\n",
      "['harry', 'potter']\n"
     ]
    }
   ],
   "source": [
    "def remove_unwanted(los):\n",
    "    product = []\n",
    "    for each in los:\n",
    "        each = each.replace(\"“\", \"\").replace(\"!”\", \"\").split()\n",
    "        print(each)\n",
    "        product.append(each)\n",
    "    return product\n",
    "        \n",
    "potential_spells = remove_unwanted(potential_spells)"
   ]
  },
  {
   "cell_type": "code",
   "execution_count": 37,
   "metadata": {},
   "outputs": [],
   "source": [
    "spells = [words for words in potential_spells if not wordnet.synsets(words[0]) and wordnet.synsets(words[1])]"
   ]
  },
  {
   "cell_type": "code",
   "execution_count": 38,
   "metadata": {},
   "outputs": [
    {
     "data": {
      "text/plain": [
       "[['this', 'way'], ['that', 'one']]"
      ]
     },
     "execution_count": 38,
     "metadata": {},
     "output_type": "execute_result"
    }
   ],
   "source": [
    "spells"
   ]
  },
  {
   "cell_type": "code",
   "execution_count": null,
   "metadata": {},
   "outputs": [],
   "source": []
  }
 ],
 "metadata": {
  "kernelspec": {
   "display_name": "Python 3",
   "language": "python",
   "name": "python3"
  },
  "language_info": {
   "codemirror_mode": {
    "name": "ipython",
    "version": 3
   },
   "file_extension": ".py",
   "mimetype": "text/x-python",
   "name": "python",
   "nbconvert_exporter": "python",
   "pygments_lexer": "ipython3",
   "version": "3.7.1"
  }
 },
 "nbformat": 4,
 "nbformat_minor": 2
}
